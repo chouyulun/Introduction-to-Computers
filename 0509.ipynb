{
  "nbformat": 4,
  "nbformat_minor": 0,
  "metadata": {
    "colab": {
      "name": "0509.ipynb",
      "provenance": [],
      "authorship_tag": "ABX9TyPLGbzq4xrooq/8veo+UPgc",
      "include_colab_link": true
    },
    "kernelspec": {
      "name": "python3",
      "display_name": "Python 3"
    },
    "language_info": {
      "name": "python"
    }
  },
  "cells": [
    {
      "cell_type": "markdown",
      "metadata": {
        "id": "view-in-github",
        "colab_type": "text"
      },
      "source": [
        "<a href=\"https://colab.research.google.com/github/chouyulun/Introduction-to-Computers/blob/main/0509.ipynb\" target=\"_parent\"><img src=\"https://colab.research.google.com/assets/colab-badge.svg\" alt=\"Open In Colab\"/></a>"
      ]
    },
    {
      "cell_type": "code",
      "execution_count": 12,
      "metadata": {
        "colab": {
          "base_uri": "https://localhost:8080/"
        },
        "id": "atsxu0q07pn3",
        "outputId": "3333280d-9d3e-47e8-e65c-cef4307eed9f"
      },
      "outputs": [
        {
          "output_type": "stream",
          "name": "stdout",
          "text": [
            "123\n"
          ]
        }
      ],
      "source": [
        "print(\"123\")"
      ]
    },
    {
      "cell_type": "code",
      "source": [
        "temp = float(input(\"請輸入你的體溫\"))\n",
        "if temp >= 37.5:\n",
        "    print(\"體溫過高!\")\n",
        "elif temp >= 37 and temp <37.4:\n",
        "    print(\"體溫略高!\")\n",
        "elif temp >=34 and temp <=36.9:\n",
        "    print(\"體溫正常!\")\n",
        "else:\n",
        "    print(\"體溫異常，請重新量測!\")"
      ],
      "metadata": {
        "colab": {
          "base_uri": "https://localhost:8080/"
        },
        "id": "v-PRDtV48hyU",
        "outputId": "b64ee54a-335c-405e-a219-5b149fd6c751"
      },
      "execution_count": 13,
      "outputs": [
        {
          "output_type": "stream",
          "name": "stdout",
          "text": [
            "請輸入你的體溫36\n",
            "體溫正常!\n"
          ]
        }
      ]
    },
    {
      "cell_type": "code",
      "source": [
        "score = input(\"請輸入成績\")\n",
        "if (int(score) >= 90):\n",
        "    print(\"A\")\n",
        "elif (int(score) >= 80):\n",
        "    print(\"B\")\n",
        "elif (int(score) >= 70):\n",
        "    print(\"C\")\n",
        "elif (int(score) >= 60):\n",
        "    print(\"D\")\n",
        "else:\n",
        "    print(\"E\")"
      ],
      "metadata": {
        "colab": {
          "base_uri": "https://localhost:8080/"
        },
        "id": "4TeY6mCa_bmW",
        "outputId": "cf6ef807-4ade-4ad7-f9dd-1313de87c494"
      },
      "execution_count": 17,
      "outputs": [
        {
          "output_type": "stream",
          "name": "stdout",
          "text": [
            "請輸入成績90\n",
            "A\n"
          ]
        }
      ]
    },
    {
      "cell_type": "code",
      "source": [
        "money = int(input(\"請輸入購物金額\"))\n",
        "if (money >= 10000):\n",
        "    if(money >= 100000):\n",
        "        print(\"八折\",money *0.8, end = \"元\\n\")\n",
        "    elif(money >= 50000):\n",
        "        print(\"八五折\",money *0.85, end = \"元\\n\")\n",
        "    elif(money >= 30000):\n",
        "        print(\"九折\",money *0.9, end = \"元\\n\")\n",
        "    else:\n",
        "        print(\"九五折\",money *0.95, end = \"元\\n\")\n",
        "else:\n",
        "  print(\"沒打折\",money, end= \"元\\n\")"
      ],
      "metadata": {
        "colab": {
          "base_uri": "https://localhost:8080/"
        },
        "id": "eTGpLluXA-UY",
        "outputId": "1abd1551-b922-4633-fe6d-5e2197b49dfd"
      },
      "execution_count": 23,
      "outputs": [
        {
          "output_type": "stream",
          "name": "stdout",
          "text": [
            "請輸入購物金額100000\n",
            "八折 80000.0元\n"
          ]
        }
      ]
    },
    {
      "cell_type": "code",
      "source": [
        "month = int(input(\"請輸入月份\"))\n",
        "if (month >= 3 and month <= 5):\n",
        "    print(\"{}月是春天!\".format(month))\n",
        "elif (month >= 6 and month <= 8):\n",
        "    print(\"{}月是夏天!\".format(month))\n",
        "elif (month >= 9 and month <= 11):\n",
        "    print(\"{}月是秋天!\".format(month))\n",
        "elif (month == 12 or month == 1 or month == 2):\n",
        "    print(\"{}月是冬天!\".format(month))\n",
        "else:\n",
        "  print(\"月份不在範圍內!\")"
      ],
      "metadata": {
        "colab": {
          "base_uri": "https://localhost:8080/"
        },
        "id": "QCVqxvjQHvtP",
        "outputId": "261bb2a2-9da0-45a0-e25a-de2a491f3d5d"
      },
      "execution_count": 61,
      "outputs": [
        {
          "output_type": "stream",
          "name": "stdout",
          "text": [
            "請輸入月份12\n",
            "12月是冬天!\n"
          ]
        }
      ]
    },
    {
      "cell_type": "code",
      "source": [
        "revenue = int(input(\"請輸入今年收入淨額: \"))\n",
        "if (revenue >= 300000):\n",
        "    if (revenue >= 2000000):\n",
        "        print(\"付稅金額:\",revenue *0.3, end = \" 元\\n\")\n",
        "    elif (revenue >= 1000000):\n",
        "        print(\"付稅金額:\",revenue *0.21, end = \" 元\\n\")\n",
        "    elif (revenue >= 600000):\n",
        "        print(\"付稅金額:\",revenue *0.13, end = \" 元\\n\")\n",
        "    else:\n",
        "        print(\"付稅金額:\",revenue *0.06, end = \" 元\\n\")\n",
        "else:\n",
        "  print(\"付稅金額:\",revenue *0, end = \" 元\\n\")"
      ],
      "metadata": {
        "colab": {
          "base_uri": "https://localhost:8080/"
        },
        "id": "puLm-6yvHv38",
        "outputId": "14dab098-a509-437f-e61d-3708aae5f617"
      },
      "execution_count": 74,
      "outputs": [
        {
          "output_type": "stream",
          "name": "stdout",
          "text": [
            "請輸入今年收入淨額: 2000000\n",
            "付稅金額: 600000.0 元\n"
          ]
        }
      ]
    }
  ]
}